{
 "cells": [
  {
   "cell_type": "code",
   "execution_count": 1,
   "metadata": {},
   "outputs": [],
   "source": [
    "import pandas as pd\n",
    "import json\n",
    "import io\n",
    "from pandas.io.json import json_normalize\n",
    "import pymongo \n",
    "from pymongo import MongoClient\n",
    "import pprint\n",
    "import numpy as np"
   ]
  },
  {
   "cell_type": "code",
   "execution_count": 2,
   "metadata": {},
   "outputs": [],
   "source": [
    "client = MongoClient('mongodb://localhost:27017/')\n",
    "db = client.dataton2019\n",
    "collection = db.S6_Contrataciones\n",
    "contrataciones = collection.find()"
   ]
  },
  {
   "cell_type": "markdown",
   "metadata": {},
   "source": [
    "### RedFlag 1:\n",
    "\n",
    "Se consideran las contrataciones donde la informacion de contacto de dos o mas porstores coincide, ya sea email o numero de telefono.  "
   ]
  },
  {
   "cell_type": "code",
   "execution_count": 3,
   "metadata": {},
   "outputs": [],
   "source": [
    "collection = db.S6_Contrataciones\n",
    "contrataciones = collection.find()\n",
    "redflag_1 = []\n",
    "for i in contrataciones:\n",
    "    if(len(i['parties'])>3):\n",
    "        x=[]\n",
    "        for n in range(len(i['parties'][2:])):\n",
    "            for j in range(len(i['parties'][2:])):\n",
    "                if(j != n):\n",
    "                    try:\n",
    "                        y = i['parties'][2+n]['contactPoint']['email']\n",
    "                        x.append(i['parties'][2+n]['contactPoint']['email'].split('; ')[:][0]==i['parties'][2+j]['contactPoint']['email'].split('; ')[:][0])\n",
    "                    except:\n",
    "                        break\n",
    "        if(True in x):\n",
    "            redflag_1.append(1)\n",
    "        else:\n",
    "            redflag_1.append(0)\n",
    "    else: \n",
    "        redflag_1.append(0)"
   ]
  },
  {
   "cell_type": "code",
   "execution_count": 4,
   "metadata": {},
   "outputs": [],
   "source": [
    "collection = db.S6_Contrataciones\n",
    "contrataciones = collection.find()\n",
    "redflag_uno = []\n",
    "for i in contrataciones:\n",
    "    if(len(i['parties'])>3):\n",
    "        x=[]\n",
    "        for n in range(len(i['parties'][2:])):\n",
    "            for j in range(len(i['parties'][2:])):\n",
    "                if(j != n):\n",
    "                    try:\n",
    "                        y = i['parties'][2+n]['contactPoint']['telephone']\n",
    "                        x.append(i['parties'][2+n]['contactPoint']['telephone'].split('  ')[:][0]==i['parties'][2+j]['contactPoint']['telephone'].split('  ')[:][0])\n",
    "                    except:\n",
    "                        break\n",
    "        if(True in x):\n",
    "            redflag_uno.append(1)\n",
    "        else:\n",
    "            redflag_uno.append(0)\n",
    "    else: \n",
    "        redflag_uno.append(0)"
   ]
  },
  {
   "cell_type": "code",
   "execution_count": 5,
   "metadata": {},
   "outputs": [],
   "source": [
    "redFlag1 = []\n",
    "for i in range(len(redflag_1)):\n",
    "    if(redflag_1[i]==1 or redflag_uno[i]==1):\n",
    "        redFlag1.append(1)\n",
    "    else:\n",
    "        redFlag1.append(0)"
   ]
  },
  {
   "cell_type": "markdown",
   "metadata": {},
   "source": [
    "### RedFlag 2:\n",
    "\n",
    "Se consideran las contrataciones donde la información de contacto del proveedor coincide con la informacion de la entidad contratante"
   ]
  },
  {
   "cell_type": "code",
   "execution_count": 6,
   "metadata": {},
   "outputs": [],
   "source": [
    "collection = db.S6_Contrataciones\n",
    "contrataciones = collection.find()\n",
    "redflag_2 = []\n",
    "for i in contrataciones:\n",
    "    y = 0\n",
    "    x = i['parties'][1]['contactPoint']['email'].split('; ')[:][0]\n",
    "    for j in range(len(i['parties'])):\n",
    "        if(len(i['parties'][j]['roles'])==2):\n",
    "            try:\n",
    "                y = i['parties'][j]['contactPoint']['email'].split('; ')[:][0] \n",
    "            except:\n",
    "                break\n",
    "    if(x==y):\n",
    "        redflag_2.append(1)\n",
    "    else:\n",
    "        redflag_2.append(0)      "
   ]
  },
  {
   "cell_type": "code",
   "execution_count": 7,
   "metadata": {},
   "outputs": [],
   "source": [
    "collection = db.S6_Contrataciones\n",
    "contrataciones = collection.find()\n",
    "redflag_dos = []\n",
    "for i in contrataciones:\n",
    "    y = 0\n",
    "    x = i['parties'][1]['contactPoint']['telephone'].split('  ')[:][0]\n",
    "    for j in range(len(i['parties'])):\n",
    "        if(len(i['parties'][j]['roles'])==2):\n",
    "            try:\n",
    "                y = i['parties'][j]['contactPoint']['telephone'].split('  ')[:][0] \n",
    "            except:\n",
    "                break\n",
    "    if(x==y):\n",
    "        redflag_dos.append(1)\n",
    "    else:\n",
    "        redflag_dos.append(0)"
   ]
  },
  {
   "cell_type": "code",
   "execution_count": 8,
   "metadata": {},
   "outputs": [],
   "source": [
    "redFlag2 = []\n",
    "for i in range(len(redflag_1)):\n",
    "    if(redflag_2[i]==1 or redflag_dos[i]==1):\n",
    "        redFlag2.append(1)\n",
    "    else:\n",
    "        redFlag2.append(0)"
   ]
  },
  {
   "cell_type": "markdown",
   "metadata": {},
   "source": [
    "### RedFlag 3\n",
    "\n",
    "Se muestran las contrataciones que superan el limite presupuestal"
   ]
  },
  {
   "cell_type": "code",
   "execution_count": 9,
   "metadata": {},
   "outputs": [],
   "source": [
    "collection = db.S6_Contrataciones\n",
    "contrataciones = collection.find()\n",
    "redFlag3 = []\n",
    "lim = 4000000\n",
    "for i in contrataciones:\n",
    "    try:\n",
    "        x = i['tender']['procurementMethod']\n",
    "        if(x == 'direct'):\n",
    "            try:\n",
    "                y = i['contracts'][0]['value']['amount']\n",
    "                if(y > lim):\n",
    "                    redFlag3.append(1)\n",
    "                else:\n",
    "                    redFlag3.append(0)\n",
    "            except:\n",
    "                redFlag3.append(0)\n",
    "        else:\n",
    "            redFlag3.append(0)\n",
    "    except:\n",
    "        redFlag3.append(0)"
   ]
  },
  {
   "cell_type": "markdown",
   "metadata": {},
   "source": [
    "### RedFlag 4:\n",
    "\n",
    "Se consideran las contrataciones donde existen cnoincidencias de apellido entre el servidor publico que contrata y el provedor."
   ]
  },
  {
   "cell_type": "code",
   "execution_count": 10,
   "metadata": {},
   "outputs": [],
   "source": [
    "collection = db.S6_Contrataciones\n",
    "contrataciones = collection.find()\n",
    "redFlag4 = []\n",
    "for i in contrataciones:\n",
    "    y=0\n",
    "    x = i['parties'][1]['contactPoint']['name'].lower().split(' ')[-2:]\n",
    "    for j in range(len(i['parties'])):\n",
    "        if(len(i['parties'][j]['roles'])==2):\n",
    "            try:\n",
    "                y = i['parties'][j]['contactPoint']['name'].lower().split(' ')[:][-2:]\n",
    "            except:\n",
    "                break\n",
    "    if(x==y):\n",
    "        redFlag4.append(1)\n",
    "    else: \n",
    "        redFlag4.append(0)"
   ]
  },
  {
   "cell_type": "code",
   "execution_count": 11,
   "metadata": {},
   "outputs": [],
   "source": [
    "collection = db.S6_Contrataciones\n",
    "contrataciones = collection.find()\n",
    "ocid = []\n",
    "for i in contrataciones:\n",
    "    ocid.append(i['ocid'])"
   ]
  },
  {
   "cell_type": "markdown",
   "metadata": {},
   "source": [
    "### Data Frame con las contrataciones que caen en alguna bandera roja"
   ]
  },
  {
   "cell_type": "code",
   "execution_count": 12,
   "metadata": {},
   "outputs": [],
   "source": [
    "df = pd.DataFrame({'ocid': ocid, 'red_flag_1': redFlag1, 'red_flag_2': redFlag2, 'red_flag_3': redFlag3, 'red_flag_4': redFlag4})"
   ]
  },
  {
   "cell_type": "code",
   "execution_count": 19,
   "metadata": {},
   "outputs": [
    {
     "data": {
      "text/html": [
       "<div>\n",
       "<style scoped>\n",
       "    .dataframe tbody tr th:only-of-type {\n",
       "        vertical-align: middle;\n",
       "    }\n",
       "\n",
       "    .dataframe tbody tr th {\n",
       "        vertical-align: top;\n",
       "    }\n",
       "\n",
       "    .dataframe thead th {\n",
       "        text-align: right;\n",
       "    }\n",
       "</style>\n",
       "<table border=\"1\" class=\"dataframe\">\n",
       "  <thead>\n",
       "    <tr style=\"text-align: right;\">\n",
       "      <th></th>\n",
       "      <th>ocid</th>\n",
       "      <th>red_flag_1</th>\n",
       "      <th>red_flag_2</th>\n",
       "      <th>red_flag_3</th>\n",
       "      <th>red_flag_4</th>\n",
       "    </tr>\n",
       "  </thead>\n",
       "  <tbody>\n",
       "    <tr>\n",
       "      <th>0</th>\n",
       "      <td>ocds-07smqs-1003803</td>\n",
       "      <td>0</td>\n",
       "      <td>0</td>\n",
       "      <td>1</td>\n",
       "      <td>0</td>\n",
       "    </tr>\n",
       "    <tr>\n",
       "      <th>4</th>\n",
       "      <td>ocds-07smqs-1025654</td>\n",
       "      <td>0</td>\n",
       "      <td>0</td>\n",
       "      <td>1</td>\n",
       "      <td>0</td>\n",
       "    </tr>\n",
       "    <tr>\n",
       "      <th>5</th>\n",
       "      <td>ocds-07smqs-1017118</td>\n",
       "      <td>0</td>\n",
       "      <td>0</td>\n",
       "      <td>1</td>\n",
       "      <td>0</td>\n",
       "    </tr>\n",
       "    <tr>\n",
       "      <th>42</th>\n",
       "      <td>ocds-07smqs-1117530</td>\n",
       "      <td>0</td>\n",
       "      <td>0</td>\n",
       "      <td>1</td>\n",
       "      <td>0</td>\n",
       "    </tr>\n",
       "    <tr>\n",
       "      <th>51</th>\n",
       "      <td>ocds-07smqs-1150878</td>\n",
       "      <td>0</td>\n",
       "      <td>0</td>\n",
       "      <td>1</td>\n",
       "      <td>0</td>\n",
       "    </tr>\n",
       "  </tbody>\n",
       "</table>\n",
       "</div>"
      ],
      "text/plain": [
       "                   ocid  red_flag_1  red_flag_2  red_flag_3  red_flag_4\n",
       "0   ocds-07smqs-1003803           0           0           1           0\n",
       "4   ocds-07smqs-1025654           0           0           1           0\n",
       "5   ocds-07smqs-1017118           0           0           1           0\n",
       "42  ocds-07smqs-1117530           0           0           1           0\n",
       "51  ocds-07smqs-1150878           0           0           1           0"
      ]
     },
     "execution_count": 19,
     "metadata": {},
     "output_type": "execute_result"
    }
   ],
   "source": [
    "df2 = df[(df['red_flag_1']==1) | (df['red_flag_2']==1) | (df['red_flag_3']==1) | (df['red_flag_4']==1)]\n",
    "df2.head()"
   ]
  },
  {
   "cell_type": "code",
   "execution_count": 14,
   "metadata": {},
   "outputs": [],
   "source": [
    "df2.to_csv('grafo_redFlags_final_final.csv')"
   ]
  }
 ],
 "metadata": {
  "kernelspec": {
   "display_name": "Python 3",
   "language": "python",
   "name": "python3"
  },
  "language_info": {
   "codemirror_mode": {
    "name": "ipython",
    "version": 3
   },
   "file_extension": ".py",
   "mimetype": "text/x-python",
   "name": "python",
   "nbconvert_exporter": "python",
   "pygments_lexer": "ipython3",
   "version": "3.7.3"
  }
 },
 "nbformat": 4,
 "nbformat_minor": 2
}
